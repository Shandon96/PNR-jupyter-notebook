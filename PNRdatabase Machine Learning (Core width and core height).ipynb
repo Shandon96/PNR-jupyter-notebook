{
 "cells": [
  {
   "cell_type": "markdown",
   "metadata": {},
   "source": [
    "# Machine Learning flow (To Predict Core width and core height)\n",
    "## Import relevant libraries and dataset\n",
    " - Dataset is created by PNRdatabase jupyter notebook"
   ]
  },
  {
   "cell_type": "code",
   "execution_count": 1,
   "metadata": {},
   "outputs": [],
   "source": [
    "import pandas as pd\n",
    "import numpy as np\n",
    "import matplotlib.pyplot as plt\n",
    "%matplotlib inline\n",
    "data = pd.read_csv('PNRdatabase3.csv') # load dataset (csv file) with pandas"
   ]
  },
  {
   "cell_type": "markdown",
   "metadata": {},
   "source": [
    "## Define features (X) and targets (y)\n",
    " - Define X as feature columns\n",
    " - Define y as target column CoreWidth\n",
    " - Define z as target column CoreHeight"
   ]
  },
  {
   "cell_type": "code",
   "execution_count": 2,
   "metadata": {},
   "outputs": [],
   "source": [
    "# Drop all columns which will not be used in machine learning model, leaving feature and target columns\n",
    "train = data.drop(['Violations','AntennaViolations','Type40LP','MetalStack','Date','RowDirection','DoubleBack','FlipFirstRow','StartfromFirstRow'],axis=1)\n",
    "\n",
    "# Drop target columns, leaving feature columns\n",
    "X = train.drop(['CoreHeight','CoreWidth'],axis=1)\n",
    "\n",
    "# Define y and z to be target columns\n",
    "y = train['CoreWidth']\n",
    "z = train['CoreHeight']"
   ]
  },
  {
   "cell_type": "markdown",
   "metadata": {},
   "source": [
    "## Look at distribution of targets\n",
    " - Check for presence of possible outliers"
   ]
  },
  {
   "cell_type": "code",
   "execution_count": 3,
   "metadata": {},
   "outputs": [
    {
     "data": {
      "text/plain": [
       "Text(0.5, 1.0, 'Distribution of CoreHeight')"
      ]
     },
     "execution_count": 3,
     "metadata": {},
     "output_type": "execute_result"
    },
    {
     "data": {
      "image/png": "[encoded data removed]",
      "text/plain": [
       "<Figure size 432x288 with 2 Axes>"
      ]
     },
     "metadata": {},
     "output_type": "display_data"
    }
   ],
   "source": [
    "import seaborn as sns\n",
    "sns.set_style('whitegrid')\n",
    "fig,(ax1,ax2)=plt.subplots(1,2)\n",
    "ax1.hist(y, range=(220, 270), bins=5)\n",
    "ax2.hist(z, range=(220, 270), bins=5)\n",
    "ax1.set_title('Distribution of CoreWidth')\n",
    "ax2.set_title('Distribution of CoreHeight')"
   ]
  },
  {
   "cell_type": "code",
   "execution_count": 4,
   "metadata": {},
   "outputs": [],
   "source": [
    "from sklearn.model_selection import train_test_split\n",
    "\n",
    "# split dataset into train set (80%) and test set (20%)\n",
    "X_train, X_test, y_train, y_test = train_test_split(X, y, test_size=0.2,random_state=41)\n",
    "X_train, X_test, z_train, z_test = train_test_split(X, z, test_size=0.2,random_state=41)"
   ]
  },
  {
   "cell_type": "markdown",
   "metadata": {},
   "source": [
    "## Select the best features with feature selection"
   ]
  },
  {
   "cell_type": "code",
   "execution_count": 5,
   "metadata": {},
   "outputs": [
    {
     "name": "stdout",
     "output_type": "stream",
     "text": [
      "Index(['LayerM2', 'LayerFA', 'NetCount', 'RowCount', 'AspectRatio'], dtype='object')\n",
      "Index(['LayerM2', 'LayerFA', 'NetCount', 'RowCount', 'AspectRatio'], dtype='object')\n"
     ]
    },
    {
     "name": "stderr",
     "output_type": "stream",
     "text": [
      "c:\\users\\asus\\appdata\\local\\programs\\python\\python38\\lib\\site-packages\\sklearn\\feature_selection\\_univariate_selection.py:113: UserWarning: Features [11 12 13 15 16 17 18 21 22 23 26] are constant.\n",
      "  warnings.warn(\"Features %s are constant.\" % constant_features_idx,\n",
      "c:\\users\\asus\\appdata\\local\\programs\\python\\python38\\lib\\site-packages\\sklearn\\feature_selection\\_univariate_selection.py:115: RuntimeWarning: divide by zero encountered in true_divide\n",
      "  f = msb / msw\n",
      "c:\\users\\asus\\appdata\\local\\programs\\python\\python38\\lib\\site-packages\\sklearn\\feature_selection\\_univariate_selection.py:115: RuntimeWarning: invalid value encountered in true_divide\n",
      "  f = msb / msw\n",
      "c:\\users\\asus\\appdata\\local\\programs\\python\\python38\\lib\\site-packages\\sklearn\\feature_selection\\_univariate_selection.py:113: UserWarning: Features [11 12 13 15 16 17 18 21 22 23 26] are constant.\n",
      "  warnings.warn(\"Features %s are constant.\" % constant_features_idx,\n",
      "c:\\users\\asus\\appdata\\local\\programs\\python\\python38\\lib\\site-packages\\sklearn\\feature_selection\\_univariate_selection.py:115: RuntimeWarning: divide by zero encountered in true_divide\n",
      "  f = msb / msw\n",
      "c:\\users\\asus\\appdata\\local\\programs\\python\\python38\\lib\\site-packages\\sklearn\\feature_selection\\_univariate_selection.py:115: RuntimeWarning: invalid value encountered in true_divide\n",
      "  f = msb / msw\n"
     ]
    }
   ],
   "source": [
    "from sklearn.feature_selection import SelectKBest, f_classif\n",
    "\n",
    "# function to return features with highest correlation to target\n",
    "def select_columns(feature_cols,target_col,no_features=5):\n",
    "    selector = SelectKBest(f_classif, k=no_features)\n",
    "    X_new = selector.fit_transform(feature_cols,target_col)\n",
    "    selected_features = pd.DataFrame(selector.inverse_transform(X_new), \n",
    "                                 index=train.index, \n",
    "                                 columns=X.columns)\n",
    "    selected_columns = selected_features.columns[selected_features.var() != 0]\n",
    "    return selected_columns\n",
    "    \n",
    "selected_columns_place = select_columns(train[X.columns],train['CoreHeight'])\n",
    "selected_columns_route = select_columns(train[X.columns],train['CoreWidth'])\n",
    "\n",
    "# print list of features with highest correlation to target\n",
    "print(selected_columns_place)\n",
    "print(selected_columns_route)"
   ]
  },
  {
   "cell_type": "markdown",
   "metadata": {},
   "source": [
    "## Find best regression model from scikit-learn using k-fold cross validation\n",
    "- Metrics used: root mean squared error\n",
    "- number of folds: 10"
   ]
  },
  {
   "cell_type": "code",
   "execution_count": 6,
   "metadata": {},
   "outputs": [
    {
     "name": "stdout",
     "output_type": "stream",
     "text": [
      "best score (width) is:  0.010679833933034347\n",
      "best regressor (width) is:  LinearRegression(copy_X=True, fit_intercept=True, n_jobs=None, normalize=False)\n",
      "best score (height) is:  4.789827903522628e-13\n",
      "best regressor (height) is:  LinearRegression(copy_X=True, fit_intercept=True, n_jobs=None, normalize=False)\n"
     ]
    }
   ],
   "source": [
    "from sklearn.linear_model import LinearRegression    \n",
    "from sklearn.linear_model import Ridge\n",
    "from sklearn.linear_model import Lasso\n",
    "from sklearn.linear_model import ElasticNet\n",
    "from sklearn.neighbors import KNeighborsRegressor\n",
    "from sklearn.tree import DecisionTreeRegressor   \n",
    "from sklearn.svm import SVR\n",
    "from sklearn.ensemble import GradientBoostingRegressor\n",
    "from sklearn.ensemble import RandomForestRegressor\n",
    "\n",
    "k=11\n",
    "\n",
    "# list of regression models from sklearn\n",
    "Regressors = [\n",
    "    LinearRegression(),\n",
    "    Ridge(max_iter=10000,random_state=k),\n",
    "    Lasso(max_iter=10000,random_state=k),\n",
    "    ElasticNet(max_iter=10000,random_state=k),\n",
    "    KNeighborsRegressor(),\n",
    "    DecisionTreeRegressor(random_state=k),\n",
    "    SVR(max_iter=10000),\n",
    "    GradientBoostingRegressor(random_state=k),\n",
    "    RandomForestRegressor(random_state=k)\n",
    "]\n",
    "\n",
    "from sklearn.model_selection import cross_val_score\n",
    "\n",
    "# initialize a high best score for CoreWidth and CoreHeight\n",
    "best_score_width = 100\n",
    "best_score_height = 100\n",
    "\n",
    "# loop through regression model list to find the best scores\n",
    "for regressor in Regressors:\n",
    "    cv_results_width = -cross_val_score(regressor, X_train[selected_columns_route], y_train, scoring='neg_root_mean_squared_error', cv=10 )\n",
    "    cv_results_height = -cross_val_score(regressor, X_train[selected_columns_place], z_train, scoring='neg_root_mean_squared_error', cv=10 )\n",
    "    if best_score_width > cv_results_width.mean():\n",
    "        best_score_width = cv_results_width.mean()\n",
    "        best_regressor_width = regressor\n",
    "    if best_score_height > cv_results_height.mean():\n",
    "        best_score_height = cv_results_height.mean()\n",
    "        best_regressor_height = regressor\n",
    "    \n",
    "# print best score and regression model\n",
    "print('best score (width) is: ',best_score_width)\n",
    "print('best regressor (width) is: ',best_regressor_width)\n",
    "        \n",
    "print('best score (height) is: ',best_score_height)\n",
    "print('best regressor (height) is: ',best_regressor_height)"
   ]
  },
  {
   "cell_type": "markdown",
   "metadata": {},
   "source": [
    "## Train and test best models with best values of hyperparameters\n",
    " - As best model (linear regression) does not have tunable hyperparameters, GridSearchCV is not carried out"
   ]
  },
  {
   "cell_type": "code",
   "execution_count": 7,
   "metadata": {},
   "outputs": [
    {
     "name": "stdout",
     "output_type": "stream",
     "text": [
      "[253.25963674 253.25947399 263.91129763 263.91049303 263.91008362\n",
      " 253.25961176 263.91004595 253.26039428 253.26173361 253.26081225\n",
      " 253.25957121 253.26014733 263.90996352 263.91041894 263.90982067\n",
      " 263.91107549 263.91024652 253.25923804 253.41799214 253.25918221\n",
      " 263.90966156 263.91024439]\n",
      "94     253.26\n",
      "63     253.26\n",
      "24     263.91\n",
      "6      263.91\n",
      "0      263.91\n",
      "71     253.26\n",
      "41     263.91\n",
      "92     253.26\n",
      "91     253.26\n",
      "100    253.26\n",
      "82     253.26\n",
      "102    253.26\n",
      "27     263.91\n",
      "37     263.91\n",
      "33     263.91\n",
      "49     263.91\n",
      "2      263.91\n",
      "105    253.26\n",
      "83     253.26\n",
      "73     253.26\n",
      "16     263.91\n",
      "32     263.91\n",
      "Name: CoreWidth, dtype: float64\n",
      "0.03369036111277835\n"
     ]
    }
   ],
   "source": [
    "from sklearn import metrics\n",
    "linreg_width = LinearRegression()\n",
    "\n",
    "# train model with train set \n",
    "linreg_width.fit(X_train,y_train)\n",
    "y_pred = linreg_width.predict(X_test) # test model wih test set\n",
    "print(y_pred)\n",
    "print(y_test)\n",
    "print(np.sqrt(metrics.mean_squared_error(y_test, y_pred)))"
   ]
  },
  {
   "cell_type": "code",
   "execution_count": 8,
   "metadata": {},
   "outputs": [
    {
     "data": {
      "text/plain": [
       "<matplotlib.legend.Legend at 0x1e618fd9cd0>"
      ]
     },
     "execution_count": 8,
     "metadata": {},
     "output_type": "execute_result"
    },
    {
     "data": {
      "image/png": "[encoded data removed]",
      "text/plain": [
       "<Figure size 432x288 with 1 Axes>"
      ]
     },
     "metadata": {},
     "output_type": "display_data"
    }
   ],
   "source": [
    "# plot graph of predited and actual values of CoreWidth\n",
    "testlist = list(range(1,23))\n",
    "plt.plot(testlist, y_pred)\n",
    "plt.plot(testlist, y_test)\n",
    "plt.xlabel('index')\n",
    "plt.ylabel('y_pred/ y_test')\n",
    "plt.legend(['y_pred','y_test'])"
   ]
  },
  {
   "cell_type": "code",
   "execution_count": 9,
   "metadata": {},
   "outputs": [
    {
     "name": "stdout",
     "output_type": "stream",
     "text": [
      "[253.25963674 253.25947399 263.91129763 263.91049303 263.91008362\n",
      " 253.25961176 263.91004595 253.26039428 253.26173361 253.26081225\n",
      " 253.25957121 253.26014733 263.90996352 263.91041894 263.90982067\n",
      " 263.91107549 263.91024652 253.25923804 253.41799214 253.25918221\n",
      " 263.90966156 263.91024439]\n",
      "94     253.26\n",
      "63     253.26\n",
      "24     263.34\n",
      "6      263.34\n",
      "0      263.34\n",
      "71     253.26\n",
      "41     263.34\n",
      "92     253.26\n",
      "91     253.26\n",
      "100    253.26\n",
      "82     253.26\n",
      "102    253.26\n",
      "27     263.34\n",
      "37     263.34\n",
      "33     263.34\n",
      "49     263.34\n",
      "2      263.34\n",
      "105    253.26\n",
      "83     253.26\n",
      "73     253.26\n",
      "16     263.34\n",
      "32     263.34\n",
      "Name: CoreHeight, dtype: float64\n",
      "0.4046711006578264\n"
     ]
    }
   ],
   "source": [
    "# train model with train set\n",
    "linreg_height = LinearRegression()\n",
    "linreg_height.fit(X_train,z_train)\n",
    "z_pred = linreg_width.predict(X_test) # test model with test set\n",
    "print(z_pred)\n",
    "print(z_test)\n",
    "print(np.sqrt(metrics.mean_squared_error(z_test, z_pred)))"
   ]
  },
  {
   "cell_type": "code",
   "execution_count": 11,
   "metadata": {},
   "outputs": [
    {
     "data": {
      "text/plain": [
       "<matplotlib.legend.Legend at 0x1e61909cd90>"
      ]
     },
     "execution_count": 11,
     "metadata": {},
     "output_type": "execute_result"
    },
    {
     "data": {
      "image/png": "[encoded data removed]",
      "text/plain": [
       "<Figure size 432x288 with 1 Axes>"
      ]
     },
     "metadata": {},
     "output_type": "display_data"
    }
   ],
   "source": [
    "# plot graph of predited and actual values of CoreHeight\n",
    "testlist = list(range(1,23))\n",
    "plt.plot(testlist, z_pred)\n",
    "plt.plot(testlist, z_test)\n",
    "plt.xlabel('index')\n",
    "plt.ylabel('z_pred/ z_test')\n",
    "plt.legend(['z_pred','z_test'])"
   ]
  },
  {
   "cell_type": "code",
   "execution_count": null,
   "metadata": {},
   "outputs": [],
   "source": []
  }
 ],
 "metadata": {
  "kernelspec": {
   "display_name": "Python 3",
   "language": "python",
   "name": "python3"
  },
  "language_info": {
   "codemirror_mode": {
    "name": "ipython",
    "version": 3
   },
   "file_extension": ".py",
   "mimetype": "text/x-python",
   "name": "python",
   "nbconvert_exporter": "python",
   "pygments_lexer": "ipython3",
   "version": "3.8.2"
  }
 },
 "nbformat": 4,
 "nbformat_minor": 4
}
