{
 "cells": [
  {
   "cell_type": "markdown",
   "metadata": {},
   "source": [
    "# Machine Learning flow (To predict RunTime)\n",
    "## Import relevant libraries and dataset\n",
    " - Dataset is created by PNRdatabase jupyter notebook"
   ]
  },
  {
   "cell_type": "code",
   "execution_count": 1,
   "metadata": {},
   "outputs": [],
   "source": [
    "import pandas as pd\n",
    "import numpy as np\n",
    "import matplotlib.pyplot as plt\n",
    "%matplotlib inline\n",
    "import seaborn as sns\n",
    "data = pd.read_csv('PNRdatabase3.csv') # load dataset (csv file) with pandas\n",
    "\n",
    "# ignore unimportant warnings\n",
    "def warn(*args, **kwargs):\n",
    "    pass\n",
    "import warnings\n",
    "warnings.warn = warn"
   ]
  },
  {
   "cell_type": "markdown",
   "metadata": {},
   "source": [
    "## Define features (X) and targets (y/z)\n",
    " - Define X as feature columns\n",
    " - Define y as target column RunTimeRoute\n",
    " - Define z as target column RunTimePlace"
   ]
  },
  {
   "cell_type": "code",
   "execution_count": 2,
   "metadata": {},
   "outputs": [],
   "source": [
    "# Drop all columns which will not be used in machine learning model, leaving feature and target columns\n",
    "train = data.drop(['Violations','AntennaViolations','Type40LP','MetalStack','Date','RowDirection','DoubleBack','FlipFirstRow','StartfromFirstRow'],axis=1)\n",
    "\n",
    "# Drop target columns, leaving feature columns\n",
    "X = train.drop(['RunTimeRoute','RunTimePlace'],axis=1)\n",
    "\n",
    "# Define y and z to be target columns\n",
    "y = train['RunTimeRoute']\n",
    "z = train['RunTimePlace']"
   ]
  },
  {
   "cell_type": "markdown",
   "metadata": {},
   "source": [
    "## Look at distribution of targets\n",
    " - Check for presence of possible outliers"
   ]
  },
  {
   "cell_type": "code",
   "execution_count": 3,
   "metadata": {
    "scrolled": true
   },
   "outputs": [
    {
     "data": {
      "text/plain": [
       "Text(0.5, 1.0, 'Distribution of RunTimePlace')"
      ]
     },
     "execution_count": 3,
     "metadata": {},
     "output_type": "execute_result"
    },
    {
     "data": {
      "image/png": "[encoded data removed]",
      "text/plain": [
       "<Figure size 432x288 with 2 Axes>"
      ]
     },
     "metadata": {},
     "output_type": "display_data"
    }
   ],
   "source": [
    "sns.set_style('whitegrid')\n",
    "fig,(ax1,ax2)=plt.subplots(1,2)\n",
    "ax1.hist(y, range=(0, 500), bins=20)\n",
    "ax2.hist(z, range=(100, 350), bins=20)\n",
    "ax1.set_title('Distribution of RunTimeRoute')\n",
    "ax2.set_title('Distribution of RunTimePlace')"
   ]
  },
  {
   "cell_type": "markdown",
   "metadata": {},
   "source": [
    "## Find Outliers\n",
    " - seaborn boxplot function shows distribution of data\n",
    " - box shows quartiles of dataset while whiskers extend to the rest of the distribution, excluding points deemed as outliers by the function of the inter-quartile range"
   ]
  },
  {
   "cell_type": "code",
   "execution_count": 4,
   "metadata": {},
   "outputs": [
    {
     "data": {
      "text/plain": [
       "<matplotlib.axes._subplots.AxesSubplot at 0x23422543460>"
      ]
     },
     "execution_count": 4,
     "metadata": {},
     "output_type": "execute_result"
    },
    {
     "data": {
      "image/png": "[encoded data removed]",
      "text/plain": [
       "<Figure size 432x288 with 1 Axes>"
      ]
     },
     "metadata": {},
     "output_type": "display_data"
    }
   ],
   "source": [
    "sns.boxplot(x=y)"
   ]
  },
  {
   "cell_type": "code",
   "execution_count": 5,
   "metadata": {},
   "outputs": [
    {
     "data": {
      "text/plain": [
       "<matplotlib.axes._subplots.AxesSubplot at 0x234225bbdf0>"
      ]
     },
     "execution_count": 5,
     "metadata": {},
     "output_type": "execute_result"
    },
    {
     "data": {
      "image/png": "[encoded data removed]",
      "text/plain": [
       "<Figure size 432x288 with 1 Axes>"
      ]
     },
     "metadata": {},
     "output_type": "display_data"
    }
   ],
   "source": [
    "sns.boxplot(x=z)"
   ]
  },
  {
   "cell_type": "code",
   "execution_count": 6,
   "metadata": {},
   "outputs": [
    {
     "name": "stdout",
     "output_type": "stream",
     "text": [
      "24.5 26.0\n"
     ]
    }
   ],
   "source": [
    "# Derive inter-quartile ranges of both RunTimeRoute and RunTimePlace\n",
    "Q1_y = y.quantile(0.25)\n",
    "Q3_y = y.quantile(0.75)\n",
    "IQR_y = Q3_y - Q1_y\n",
    "Q1_z = z.quantile(0.25)\n",
    "Q3_z = z.quantile(0.75)\n",
    "IQR_z = Q3_z - Q1_z\n",
    "print(IQR_y,IQR_z)"
   ]
  },
  {
   "cell_type": "code",
   "execution_count": 7,
   "metadata": {},
   "outputs": [
    {
     "name": "stdout",
     "output_type": "stream",
     "text": [
      "1 166\n",
      "3 135\n",
      "4 160\n",
      "6 155\n",
      "8 158\n",
      "10 171\n",
      "13 170\n",
      "22 150\n",
      "24 165\n",
      "26 154\n",
      "28 151\n",
      "30 146\n",
      "32 160\n",
      "34 173\n",
      "67 479\n",
      "83 8\n",
      "87 328\n",
      "89 154\n",
      "91 142\n",
      "93 162\n",
      "95 156\n",
      "97 142\n",
      "22\n"
     ]
    }
   ],
   "source": [
    "# Print all possible outliers of RunTimeRoute which are outside inter-quartile range\n",
    "y_outliers = []\n",
    "for i in range(len(y)):\n",
    "    if y[i] < (Q1_y - 1.5 * IQR_y) or y[i] > (Q3_y + 1.5 * IQR_y):\n",
    "        y_outliers.append(i)\n",
    "        print(i,y[i])\n",
    "print(len(y_outliers))"
   ]
  },
  {
   "cell_type": "code",
   "execution_count": 8,
   "metadata": {},
   "outputs": [],
   "source": [
    "y_outliers = [83,67,87] # outliers do not include small cluster of data points on the right of box (see box plot of RunTimeRoute)"
   ]
  },
  {
   "cell_type": "code",
   "execution_count": 9,
   "metadata": {},
   "outputs": [
    {
     "name": "stdout",
     "output_type": "stream",
     "text": [
      "[21, 27, 76, 85, 91]\n"
     ]
    }
   ],
   "source": [
    "# Print all possible outliers of RunTimePlace which are outside inter-quartile range\n",
    "z_outliers = []\n",
    "for i in range(len(z)):\n",
    "    if z[i] < (Q1_z - 1.5 * IQR_z) or z[i] > (Q3_z + 1.5 * IQR_z):\n",
    "        z_outliers.append(i)\n",
    "print(z_outliers)"
   ]
  },
  {
   "cell_type": "markdown",
   "metadata": {},
   "source": [
    "## Remove Outliers\n",
    " - Plot histogram of distribution excluding outliers"
   ]
  },
  {
   "cell_type": "code",
   "execution_count": 10,
   "metadata": {},
   "outputs": [
    {
     "data": {
      "text/plain": [
       "Text(0.5, 1.0, 'Distribution of RunTimePlace')"
      ]
     },
     "execution_count": 10,
     "metadata": {},
     "output_type": "execute_result"
    },
    {
     "data": {
      "image/png": "[encoded data removed]",
      "text/plain": [
       "<Figure size 432x288 with 2 Axes>"
      ]
     },
     "metadata": {},
     "output_type": "display_data"
    }
   ],
   "source": [
    "# drop outliers from all points\n",
    "X_remove_outliers_route = X.drop(y_outliers)\n",
    "X_remove_outliers_place = X.drop(z_outliers)\n",
    "y_remove_outliers = y.drop(y_outliers)\n",
    "z_remove_outliers = z.drop(z_outliers)\n",
    "\n",
    "# plot histogram of distribution excluding outliers\n",
    "sns.set_style('whitegrid')\n",
    "fig,(ax1,ax2)=plt.subplots(1,2)\n",
    "ax1.hist(y_remove_outliers, range=(0, 500), bins=20)\n",
    "ax2.hist(z_remove_outliers, range=(100, 350), bins=20)\n",
    "ax1.set_title('Distribution of RunTimeRoute')\n",
    "ax2.set_title('Distribution of RunTimePlace')"
   ]
  },
  {
   "cell_type": "markdown",
   "metadata": {},
   "source": [
    "## Standardize the data points to a normal distribution with mean 0 and variance 1\n",
    " - Necessary to ensure model assigns fair weight to features, without being affected by varying ranges and means of features"
   ]
  },
  {
   "cell_type": "code",
   "execution_count": 11,
   "metadata": {},
   "outputs": [],
   "source": [
    "# convert pandas Dataframes to numpy arrays\n",
    "# necessary to input into sklearn's StandardScaler\n",
    "X_remove_outliers_route = X_remove_outliers_route.to_numpy()\n",
    "X_remove_outliers_place = X_remove_outliers_place.to_numpy()\n",
    "y_remove_outliers = y_remove_outliers.to_numpy()\n",
    "z_remove_outliers = z_remove_outliers.to_numpy()"
   ]
  },
  {
   "cell_type": "code",
   "execution_count": 12,
   "metadata": {},
   "outputs": [
    {
     "name": "stdout",
     "output_type": "stream",
     "text": [
      "[[ 0.056275  ]\n",
      " [ 2.28563062]\n",
      " [-0.62739406]\n",
      " [ 1.36416363]\n",
      " [ 2.10728217]\n",
      " [-0.68684354]\n",
      " [ 1.95865846]\n",
      " [-0.47877035]\n",
      " [ 2.04783269]\n",
      " [-0.62739406]\n",
      " [ 2.43425433]\n",
      " [-0.59766932]\n",
      " [-0.71656829]\n",
      " [ 2.40452959]\n",
      " [-0.21124768]\n",
      " [-0.41932087]\n",
      " [-0.62739406]\n",
      " [-0.59766932]\n",
      " [-0.56794458]\n",
      " [-0.12207345]\n",
      " [-0.68684354]\n",
      " [-0.33014665]\n",
      " [ 1.81003475]\n",
      " [-0.6571188 ]\n",
      " [ 2.25590588]\n",
      " [-0.44904561]\n",
      " [ 1.92893372]\n",
      " [-0.24097242]\n",
      " [ 1.83975949]\n",
      " [-0.86519199]\n",
      " [ 1.69113579]\n",
      " [-0.38959613]\n",
      " [ 2.10728217]\n",
      " [-0.83546725]\n",
      " [ 2.49370381]\n",
      " [-0.35987139]\n",
      " [-0.44904561]\n",
      " [-0.1517982 ]\n",
      " [-0.47877035]\n",
      " [-0.03289923]\n",
      " [-0.59766932]\n",
      " [-0.38959613]\n",
      " [-0.56794458]\n",
      " [-0.44904561]\n",
      " [-0.6571188 ]\n",
      " [ 0.08599974]\n",
      " [-0.47877035]\n",
      " [-0.38959613]\n",
      " [-0.86519199]\n",
      " [-0.38959613]\n",
      " [-0.56794458]\n",
      " [-0.3004219 ]\n",
      " [-0.6571188 ]\n",
      " [-0.38959613]\n",
      " [-0.68684354]\n",
      " [-0.95436622]\n",
      " [-0.44904561]\n",
      " [-0.92464148]\n",
      " [-0.44904561]\n",
      " [-0.62739406]\n",
      " [-0.6571188 ]\n",
      " [-0.71656829]\n",
      " [-0.56794458]\n",
      " [-0.12207345]\n",
      " [-0.50849509]\n",
      " [-0.21124768]\n",
      " [-0.47877035]\n",
      " [-0.6571188 ]\n",
      " [-0.68684354]\n",
      " [ 0.08599974]\n",
      " [-0.41932087]\n",
      " [-0.98409096]\n",
      " [-0.86519199]\n",
      " [-0.24097242]\n",
      " [-0.68684354]\n",
      " [ 0.38324715]\n",
      " [-0.6571188 ]\n",
      " [-0.41932087]\n",
      " [ 0.53187086]\n",
      " [-0.89491674]\n",
      " [ 0.02655025]\n",
      " [-0.68684354]\n",
      " [-0.24097242]\n",
      " [ 0.32379767]\n",
      " [-0.71656829]\n",
      " [-0.47877035]\n",
      " [ 1.92893372]\n",
      " [-0.35987139]\n",
      " [ 1.57223682]\n",
      " [-0.68684354]\n",
      " [ 2.16673165]\n",
      " [ 0.29407293]\n",
      " [ 1.9883832 ]\n",
      " [-0.24097242]\n",
      " [ 1.57223682]\n",
      " [-0.62739406]\n",
      " [-0.59766932]\n",
      " [ 0.056275  ]\n",
      " [-0.21124768]\n",
      " [-0.86519199]\n",
      " [-0.62739406]\n",
      " [-0.00317449]\n",
      " [-0.68684354]]\n"
     ]
    }
   ],
   "source": [
    "from sklearn.preprocessing import StandardScaler\n",
    "sc_X_place = StandardScaler()\n",
    "sc_X_route = StandardScaler()\n",
    "sc_Y = StandardScaler()\n",
    "sc_Z = StandardScaler()\n",
    "X_remove_outliers_place = sc_X_place.fit_transform(X_remove_outliers_place)\n",
    "X_remove_outliers_route = sc_X_route.fit_transform(X_remove_outliers_route)\n",
    "y_remove_outliers = sc_Y.fit_transform(y_remove_outliers.reshape(-1,1))\n",
    "z_remove_outliers = sc_Z.fit_transform(z_remove_outliers.reshape(-1,1))\n",
    "print(y_remove_outliers) # check that scaled RunTimeRoutes have a mean of 0"
   ]
  },
  {
   "cell_type": "code",
   "execution_count": 13,
   "metadata": {},
   "outputs": [],
   "source": [
    "# convert numpy arrays back to pandas Dataframes\n",
    "X_remove_outliers_route = pd.DataFrame(X_remove_outliers_route)\n",
    "X_remove_outliers_place = pd.DataFrame(X_remove_outliers_place)\n",
    "y_remove_outliers = pd.DataFrame(y_remove_outliers)\n",
    "z_remove_outliers = pd.DataFrame(z_remove_outliers)"
   ]
  },
  {
   "cell_type": "code",
   "execution_count": 14,
   "metadata": {},
   "outputs": [],
   "source": [
    "# attach column names to pandas Dataframes (column names are lost when converted to numpy arrays)\n",
    "X_remove_outliers_route.columns = ['layercount', 'LayerM1', 'LayerM2', 'LayerM3', 'LayerM4', 'LayerM5',\n",
    "       'LayerM6', 'LayerM7', 'LayerL1', 'LayerL2', 'LayerL3', 'LayerL4',\n",
    "       'LayerBA', 'LayerBB', 'LayerBD', 'LayerBE', 'LayerBG', 'LayerFA',\n",
    "       'LayerFB', 'LayerU3T', 'LayerU3A', 'LayerLB', 'ViaCounts', 'NetCount',\n",
    "       'RowCount', 'CoreUtil', 'CoreWidth', 'CoreHeight', 'AspectRatio']\n",
    "X_remove_outliers_place.columns = ['layercount', 'LayerM1', 'LayerM2', 'LayerM3', 'LayerM4', 'LayerM5',\n",
    "       'LayerM6', 'LayerM7', 'LayerL1', 'LayerL2', 'LayerL3', 'LayerL4',\n",
    "       'LayerBA', 'LayerBB', 'LayerBD', 'LayerBE', 'LayerBG', 'LayerFA',\n",
    "       'LayerFB', 'LayerU3T', 'LayerU3A', 'LayerLB', 'ViaCounts', 'NetCount',\n",
    "       'RowCount', 'CoreUtil', 'CoreWidth', 'CoreHeight', 'AspectRatio']\n",
    "y_remove_outliers.columns = ['RunTimeRoute']\n",
    "z_remove_outliers.columns = ['RunTimePlace']"
   ]
  },
  {
   "cell_type": "markdown",
   "metadata": {},
   "source": [
    "## Split dataset into train and test sets"
   ]
  },
  {
   "cell_type": "code",
   "execution_count": 15,
   "metadata": {},
   "outputs": [
    {
     "name": "stdout",
     "output_type": "stream",
     "text": [
      "X route shape: (101, 29)\n",
      "X place shape: (103, 29)\n",
      "y shape: (103, 1)\n",
      "z shape: (101, 1)\n",
      "X train route, X test route: (82, 29) (21, 29)\n",
      "X train place, X test place: (80, 29) (21, 29)\n",
      "y train, y test: (82, 1) (21, 1)\n",
      "z train, z test: (80, 1) (21, 1)\n"
     ]
    }
   ],
   "source": [
    "from sklearn.model_selection import train_test_split\n",
    "\n",
    "# split dataset into train set (80%) and test set (20%)\n",
    "X_train_route, X_test_route, y_train, y_test = train_test_split(X_remove_outliers_route, y_remove_outliers, test_size=0.2,random_state=41)\n",
    "X_train_place, X_test_place, z_train, z_test = train_test_split(X_remove_outliers_place, z_remove_outliers, test_size=0.2,random_state=41)\n",
    "\n",
    "# check shape of pandas Dataframes (that train set is ~80% and test set is 20%)\n",
    "print('X route shape:',X_remove_outliers_place.shape)\n",
    "print('X place shape:',X_remove_outliers_route.shape)\n",
    "print('y shape:',y_remove_outliers.shape)\n",
    "print('z shape:',z_remove_outliers.shape)\n",
    "print('X train route, X test route:',X_train_route.shape,X_test_route.shape)\n",
    "print('X train place, X test place:',X_train_place.shape,X_test_place.shape)\n",
    "print('y train, y test:',y_train.shape,y_test.shape)\n",
    "print('z train, z test:',z_train.shape,z_test.shape)"
   ]
  },
  {
   "cell_type": "markdown",
   "metadata": {},
   "source": [
    "## Select the best features with feature selection"
   ]
  },
  {
   "cell_type": "code",
   "execution_count": 16,
   "metadata": {},
   "outputs": [
    {
     "name": "stdout",
     "output_type": "stream",
     "text": [
      "Index(['layercount', 'LayerM1', 'LayerM2', 'LayerM3', 'LayerM4', 'LayerM5',\n",
      "       'LayerL1', 'LayerFA', 'ViaCounts', 'NetCount', 'CoreWidth'],\n",
      "      dtype='object')\n",
      "Index(['layercount', 'LayerM2', 'LayerM3', 'LayerM4', 'LayerL1', 'ViaCounts',\n",
      "       'NetCount'],\n",
      "      dtype='object')\n"
     ]
    },
    {
     "name": "stderr",
     "output_type": "stream",
     "text": [
      "c:\\users\\asus\\appdata\\local\\programs\\python\\python38\\lib\\site-packages\\sklearn\\feature_selection\\_univariate_selection.py:115: RuntimeWarning: invalid value encountered in true_divide\n",
      "  f = msb / msw\n",
      "c:\\users\\asus\\appdata\\local\\programs\\python\\python38\\lib\\site-packages\\sklearn\\feature_selection\\_univariate_selection.py:115: RuntimeWarning: invalid value encountered in true_divide\n",
      "  f = msb / msw\n"
     ]
    }
   ],
   "source": [
    "from sklearn.feature_selection import SelectKBest, f_classif\n",
    "\n",
    "# function to return features with highest correlation to target\n",
    "def select_columns(feature_cols,target_col,no_features=5):\n",
    "    selector = SelectKBest(f_classif, k=no_features)\n",
    "    X_new = selector.fit_transform(feature_cols,target_col)\n",
    "    selected_features = pd.DataFrame(selector.inverse_transform(X_new), \n",
    "                                 index=train.index, \n",
    "                                 columns=X.columns)\n",
    "    selected_columns = selected_features.columns[selected_features.var() != 0]\n",
    "    return selected_columns\n",
    "\n",
    "selected_columns_route = select_columns(train[X.columns],train['RunTimeRoute'],7)\n",
    "selected_columns_place = select_columns(train[X.columns],train['RunTimePlace'],11)\n",
    "\n",
    "# print list of features with highest correlation to target\n",
    "print(selected_columns_place)\n",
    "print(selected_columns_route)"
   ]
  },
  {
   "cell_type": "markdown",
   "metadata": {},
   "source": [
    "## Find best regression model from scikit-learn using k-fold cross validation\n",
    "- Metrics used: root mean squared error\n",
    "- number of folds: 10"
   ]
  },
  {
   "cell_type": "code",
   "execution_count": 17,
   "metadata": {},
   "outputs": [
    {
     "name": "stdout",
     "output_type": "stream",
     "text": [
      "best score (route) is:  0.4791159693430762\n",
      "best regressor (route) is:  GradientBoostingRegressor(alpha=0.9, ccp_alpha=0.0, criterion='friedman_mse',\n",
      "                          init=None, learning_rate=0.1, loss='ls', max_depth=3,\n",
      "                          max_features=None, max_leaf_nodes=None,\n",
      "                          min_impurity_decrease=0.0, min_impurity_split=None,\n",
      "                          min_samples_leaf=1, min_samples_split=2,\n",
      "                          min_weight_fraction_leaf=0.0, n_estimators=100,\n",
      "                          n_iter_no_change=None, presort='deprecated',\n",
      "                          random_state=7, subsample=1.0, tol=0.0001,\n",
      "                          validation_fraction=0.1, verbose=0, warm_start=False)\n",
      "best score (place) is:  0.9304409336609376\n",
      "best regressor (place) is:  SVR(C=1.0, cache_size=200, coef0=0.0, degree=3, epsilon=0.1, gamma='scale',\n",
      "    kernel='rbf', max_iter=10000, shrinking=True, tol=0.001, verbose=False)\n"
     ]
    }
   ],
   "source": [
    "from sklearn.linear_model import LinearRegression    \n",
    "from sklearn.linear_model import Ridge\n",
    "from sklearn.linear_model import Lasso\n",
    "from sklearn.linear_model import ElasticNet\n",
    "from sklearn.neighbors import KNeighborsRegressor\n",
    "from sklearn.tree import DecisionTreeRegressor   \n",
    "from sklearn.svm import SVR\n",
    "from sklearn.ensemble import GradientBoostingRegressor\n",
    "from sklearn.ensemble import RandomForestRegressor\n",
    "\n",
    "k=7\n",
    "\n",
    "# list of regression models from sklearn\n",
    "Regressors = [\n",
    "    LinearRegression(),\n",
    "    Ridge(max_iter=10000,random_state=k),\n",
    "    Lasso(max_iter=10000,random_state=k),\n",
    "    ElasticNet(max_iter=10000,random_state=k),\n",
    "    KNeighborsRegressor(),\n",
    "    DecisionTreeRegressor(random_state=k),\n",
    "    SVR(max_iter=10000),\n",
    "    GradientBoostingRegressor(random_state=k),\n",
    "    RandomForestRegressor(random_state=k)\n",
    "]\n",
    "\n",
    "from sklearn.model_selection import cross_val_score\n",
    "\n",
    "# initialize a high best score for RunTimeRoute and RunTimePlace\n",
    "best_score_route = 100\n",
    "best_score_place = 100\n",
    "\n",
    "# loop through regression model list to find the best scores\n",
    "for regressor in Regressors:\n",
    "    cv_results_route = -cross_val_score(regressor, X_train_route[selected_columns_route], y_train.values.ravel(), scoring='neg_root_mean_squared_error', cv=10 )\n",
    "    cv_results_place = -cross_val_score(regressor, X_train_place[selected_columns_place], z_train.values.ravel(), scoring='neg_root_mean_squared_error', cv=10 )\n",
    "    if best_score_route > cv_results_route.mean():\n",
    "        best_score_route = cv_results_route.mean()\n",
    "        best_regressor_route = regressor\n",
    "    if best_score_place > cv_results_place.mean():\n",
    "        best_score_place = cv_results_place.mean()\n",
    "        best_regressor_place = regressor\n",
    "\n",
    "# print best score and regression model\n",
    "print('best score (route) is: ',best_score_route)\n",
    "print('best regressor (route) is: ',best_regressor_route)\n",
    "        \n",
    "print('best score (place) is: ',best_score_place)\n",
    "print('best regressor (place) is: ',best_regressor_place)"
   ]
  },
  {
   "cell_type": "markdown",
   "metadata": {},
   "source": [
    "## Tune model's hyperparameters with GridSearchCV/RandomizedSearchCV\n",
    " - After getting best values of hyperparameters, train and test best models with best values of hyperparameters"
   ]
  },
  {
   "cell_type": "code",
   "execution_count": 18,
   "metadata": {},
   "outputs": [
    {
     "name": "stdout",
     "output_type": "stream",
     "text": [
      "GradientBoostingRegressor(alpha=0.9, ccp_alpha=0.0, criterion='friedman_mse',\n",
      "                          init=None, learning_rate=0.1, loss='ls',\n",
      "                          max_depth=None, max_features=3, max_leaf_nodes=None,\n",
      "                          min_impurity_decrease=0.0, min_impurity_split=None,\n",
      "                          min_samples_leaf=5, min_samples_split=2,\n",
      "                          min_weight_fraction_leaf=0.0, n_estimators=100,\n",
      "                          n_iter_no_change=None, presort='deprecated',\n",
      "                          random_state=11, subsample=1.0, tol=0.0001,\n",
      "                          validation_fraction=0.1, verbose=0, warm_start=False)\n",
      "[       nan 0.64819877 0.60229934 0.62240161 0.61495997        nan\n",
      "        nan 0.61495997 0.62428011 0.60642871]\n"
     ]
    }
   ],
   "source": [
    "from sklearn.model_selection import GridSearchCV, RandomizedSearchCV\n",
    "from scipy.stats import randint\n",
    "\n",
    "# define values of hyperparameters to be used in RandomizedSearchCv\n",
    "param_dist = {\"max_depth\": [3, None],\n",
    "              \"max_features\": randint(0, 6),\n",
    "              \"min_samples_leaf\": randint(1, 9)}\n",
    "\n",
    "# fit model with train set and carry out RandomizedSearchCV for RunTimeRoute\n",
    "XGB = GradientBoostingRegressor(random_state=11)\n",
    "XGB_cv = RandomizedSearchCV(XGB, param_dist,scoring='neg_root_mean_squared_error', cv=10)\n",
    "XGB_cv.fit(X_train_route[selected_columns_route],y_train.values.ravel())\n",
    "print(XGB_cv.best_estimator_)\n",
    "print(-XGB_cv.cv_results_['mean_test_score'])"
   ]
  },
  {
   "cell_type": "code",
   "execution_count": 19,
   "metadata": {
    "scrolled": true
   },
   "outputs": [
    {
     "name": "stdout",
     "output_type": "stream",
     "text": [
      "[-0.55098809 -0.39557743  0.89998138 -0.30942252  0.34824901 -0.14066498\n",
      " -0.41516336 -0.18891799 -0.40387741 -0.52046573 -0.18891799  1.34811867\n",
      " -0.63712492 -0.45484566 -0.85007976 -0.36582499 -0.22823441 -0.03815777\n",
      " -0.36582499 -0.44745239 -0.03815777]\n",
      "    RunTimeRoute\n",
      "91      0.294073\n",
      "68     -0.686844\n",
      "6       1.958658\n",
      "62     -0.567945\n",
      "0       0.056275\n",
      "40     -0.597669\n",
      "49     -0.389596\n",
      "95     -0.627394\n",
      "60     -0.657119\n",
      "63     -0.122073\n",
      "69      0.086000\n",
      "32      2.107282\n",
      "27     -0.240972\n",
      "25     -0.449046\n",
      "48     -0.865192\n",
      "2      -0.627394\n",
      "33     -0.835467\n",
      "99     -0.865192\n",
      "37     -0.151798\n",
      "16     -0.627394\n",
      "79     -0.894917\n",
      "0.5089169238425574\n"
     ]
    }
   ],
   "source": [
    "from sklearn import metrics\n",
    "\n",
    "# Use tuned (best values) hyperparameters to train model with train set \n",
    "XGB_test = GradientBoostingRegressor(max_features=1,max_depth=3,min_samples_leaf=7,random_state=7)\n",
    "XGB_test.fit(X_train_route,y_train.values.ravel())\n",
    "y_pred = XGB_test.predict(X_test_route) # test model with test set\n",
    "print(y_pred)\n",
    "print(y_test)\n",
    "print(np.sqrt(metrics.mean_squared_error(y_test, y_pred)))"
   ]
  },
  {
   "cell_type": "code",
   "execution_count": 20,
   "metadata": {},
   "outputs": [
    {
     "data": {
      "text/plain": [
       "<matplotlib.legend.Legend at 0x23422dfed30>"
      ]
     },
     "execution_count": 20,
     "metadata": {},
     "output_type": "execute_result"
    },
    {
     "data": {
      "image/png": "[encoded data removed]",
      "text/plain": [
       "<Figure size 432x288 with 1 Axes>"
      ]
     },
     "metadata": {},
     "output_type": "display_data"
    }
   ],
   "source": [
    "# plot graph of predited and actual values of RunTimeRoute\n",
    "testlist = list(range(1,22))\n",
    "plt.plot(testlist, y_pred)\n",
    "plt.plot(testlist, y_test)\n",
    "plt.xlabel('index')\n",
    "plt.ylabel('y_pred/ y_test')\n",
    "plt.legend(['y_pred','y_test'])"
   ]
  },
  {
   "cell_type": "code",
   "execution_count": 21,
   "metadata": {},
   "outputs": [
    {
     "name": "stdout",
     "output_type": "stream",
     "text": [
      "SVR(C=1, cache_size=200, coef0=0.0, degree=3, epsilon=0.1, gamma='scale',\n",
      "    kernel='rbf', max_iter=10000, shrinking=True, tol=0.001, verbose=False)\n",
      "[0.92845654 0.95175857 1.10585034 1.50242367 2.14567272]\n"
     ]
    }
   ],
   "source": [
    "# define values of hyperparameters to be used in GridSearchCV\n",
    "C_range = [1,10,100,1000,10000]\n",
    "param_grid = dict(C= C_range)\n",
    "svr = SVR(max_iter=10000)\n",
    "\n",
    "# fit model with train set and carry out RandomizedSearchCV for RunTimePlace\n",
    "search = GridSearchCV(estimator = svr, param_grid = param_grid, scoring='neg_root_mean_squared_error', cv=10)\n",
    "search.fit(X_train_place[selected_columns_route],z_train.values.ravel())\n",
    "print(search.best_estimator_)\n",
    "print(-search.cv_results_['mean_test_score'])"
   ]
  },
  {
   "cell_type": "code",
   "execution_count": 22,
   "metadata": {},
   "outputs": [
    {
     "name": "stdout",
     "output_type": "stream",
     "text": [
      "[ 0.17232848 -0.3327352  -0.67792869  0.63965195  0.43495799 -0.4088251\n",
      " -0.18237813  0.65569287  0.00276126 -0.35037573 -0.3345724  -0.35626205\n",
      " -0.25624934 -0.14228733 -0.32051506 -0.69993989  0.40695716 -0.01471736\n",
      " -0.68488022 -0.38501897  0.22017648]\n",
      "    RunTimePlace\n",
      "90      0.195835\n",
      "68      1.700180\n",
      "6      -0.695629\n",
      "62     -0.807062\n",
      "0       0.864433\n",
      "40     -0.194180\n",
      "49      0.864433\n",
      "94     -0.584196\n",
      "60     -1.419943\n",
      "63      1.365882\n",
      "69     -0.862778\n",
      "32      1.477314\n",
      "27     -1.308510\n",
      "25     -0.472763\n",
      "48     -0.807062\n",
      "2      -1.475660\n",
      "33     -0.082747\n",
      "97      1.254449\n",
      "37      1.031583\n",
      "16     -1.475660\n",
      "79     -1.197077\n",
      "1.1495497764032223\n"
     ]
    }
   ],
   "source": [
    "# Use tuned (best values) hyperparameters to train model with train set \n",
    "svr_test = SVR(C=1,max_iter=10000)\n",
    "svr_test.fit(X_train_place,z_train.values.ravel())\n",
    "z_pred = svr_test.predict(X_test_place)\n",
    "print(z_pred)\n",
    "print(z_test)\n",
    "print(np.sqrt(metrics.mean_squared_error(z_test, z_pred)))"
   ]
  },
  {
   "cell_type": "code",
   "execution_count": 24,
   "metadata": {},
   "outputs": [
    {
     "data": {
      "text/plain": [
       "<matplotlib.legend.Legend at 0x23422e9baf0>"
      ]
     },
     "execution_count": 24,
     "metadata": {},
     "output_type": "execute_result"
    },
    {
     "data": {
      "image/png": "[encoded data removed]",
      "text/plain": [
       "<Figure size 432x288 with 1 Axes>"
      ]
     },
     "metadata": {},
     "output_type": "display_data"
    }
   ],
   "source": [
    "# plot graph of predited and actual values of RunTimePlace\n",
    "testlist = list(range(1,22))\n",
    "plt.plot(testlist, z_pred)\n",
    "plt.plot(testlist, z_test)\n",
    "plt.xlabel('index')\n",
    "plt.ylabel('z_pred/z_test')\n",
    "plt.legend(['z_pred','z_test'])"
   ]
  },
  {
   "cell_type": "code",
   "execution_count": null,
   "metadata": {},
   "outputs": [],
   "source": []
  }
 ],
 "metadata": {
  "kernelspec": {
   "display_name": "Python 3",
   "language": "python",
   "name": "python3"
  },
  "language_info": {
   "codemirror_mode": {
    "name": "ipython",
    "version": 3
   },
   "file_extension": ".py",
   "mimetype": "text/x-python",
   "name": "python",
   "nbconvert_exporter": "python",
   "pygments_lexer": "ipython3",
   "version": "3.8.2"
  }
 },
 "nbformat": 4,
 "nbformat_minor": 4
}
